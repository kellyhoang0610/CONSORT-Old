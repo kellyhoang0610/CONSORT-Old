{
 "cells": [
  {
   "cell_type": "code",
   "execution_count": 22,
   "metadata": {},
   "outputs": [
    {
     "name": "stdout",
     "output_type": "stream",
     "text": [
      "14\n",
      "50\n",
      "177\n",
      "793\n",
      "792\n"
     ]
    }
   ],
   "source": [
    "import pandas as pd\n",
    "\n",
    "#import consort_golden_label data file\n",
    "consort_golden_label_data_file = \"/Users/phuong/Documents/skr-consort-master/datasets/consort_golden_label_data.txt\"\n",
    "consort_golden_label_df = pd.read_csv(consort_golden_label_data_file, header = None, sep = \"|\")\n",
    "data_df.columns = [\"PMCID\",\"Sentence_ID\",\"CONSORT_Item\",\"Sentence\"]\n",
    "data_df.head()\n",
    "#analyze \n",
    "print (len(data_df[\"PMCID\"].unique().tolist()))\n",
    "\n",
    "#import fastext_in data file\n",
    "fastext_in_data_file = \"/Users/phuong/Documents/skr-consort-master/datasets/fasttext_in.txt\"\n",
    "fastext_in_df = pd.read_csv(fastext_in_data_file, header = None, sep = \"|\")\n",
    "fastext_in_df.columns = [\"PMCID\",\"Sentence_ID\",\"a_b\",\"blank\",\"CONSORT_Item\",\"Sentence\"]\n",
    "fastext_in_df.head()\n",
    "#analyze\n",
    "print(len(fastext_in_df[\"PMCID\"].unique().tolist()))\n",
    "print(len(fastext_in_df[\"CONSORT_Item\"].unique().tolist()))\n",
    "\n",
    "#import training datasets\n",
    "single_sentence_labels_data_file = \"/Users/phuong/Documents/skr-consort-master/datasets/TrainingDatasets/single_sentence_labels.txt\"\n",
    "single_sentence_filtered_data_file = \"/Users/phuong/Documents/skr-consort-master/datasets/TrainingDatasets/single_sentence_filtered.txt\"\n",
    "\n",
    "single_sentence_labels_df = pd.read_csv(single_sentence_labels_data_file, header = None, sep = \"|\")\n",
    "single_sentence_filtered_df = pd.read_csv(single_sentence_filtered_data_file, header = None, sep = \"|\")\n",
    "\n",
    "single_sentence_labels_df.columns = [\"PMCID\",\"Sentence_ID\",\"a_b\",\"blank\",\"CONSORT_Item\",\"Sentence\"]\n",
    "single_sentence_labels_df.head()\n",
    "print(len(single_sentence_labels_df[\"PMCID\"].unique().tolist()))\n",
    "\n",
    "single_sentence_filtered_df.columns = [\"PMCID\",\"Sentence_ID\",\"a_b\",\"blank\",\"CONSORT_Item\",\"Sentence\"]\n",
    "single_sentence_filtered_df.head()\n",
    "print(len(single_sentence_filtered_df[\"PMCID\"].unique().tolist()))"
   ]
  },
  {
   "cell_type": "code",
   "execution_count": null,
   "metadata": {},
   "outputs": [],
   "source": []
  }
 ],
 "metadata": {
  "kernelspec": {
   "display_name": "Python 3",
   "language": "python",
   "name": "python3"
  },
  "language_info": {
   "codemirror_mode": {
    "name": "ipython",
    "version": 3
   },
   "file_extension": ".py",
   "mimetype": "text/x-python",
   "name": "python",
   "nbconvert_exporter": "python",
   "pygments_lexer": "ipython3",
   "version": "3.7.1"
  }
 },
 "nbformat": 4,
 "nbformat_minor": 2
}
