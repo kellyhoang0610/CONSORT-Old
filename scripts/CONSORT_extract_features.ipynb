{
 "cells": [
  {
   "cell_type": "code",
   "execution_count": 46,
   "metadata": {},
   "outputs": [
    {
     "name": "stdout",
     "output_type": "stream",
     "text": [
      "10709\n",
      "2460\n",
      "2637\n"
     ]
    }
   ],
   "source": [
    "#EXTRACT FEATURES FROM TEXT\n",
    "import pandas as pd     \n",
    "from nltk.corpus import stopwords \n",
    "from nltk.tokenize import word_tokenize \n",
    "import re\n",
    "import warnings\n",
    "warnings.filterwarnings('ignore')\n",
    "import numpy as np\n",
    "from itertools import chain\n",
    "\n",
    "stop_words = set(stopwords.words('english')) \n",
    "\n",
    "#Read data\n",
    "data_file = \"/Users/phuong/Documents/skr-consort-master/datasets/all_data_w_annotation.csv\"\n",
    "data_df = pd.read_csv(data_file, encoding = \"latin\")\n",
    "all_sentence_text = data_df[\"sentence_text\"]\n",
    "print (len(all_sentence_text))\n",
    "\n",
    "#Get data that has annotation\n",
    "data_filter_df = data_df[data_df[\"CONSORT_Item\"].notnull()]\n",
    "sentence_text = data_filter_df[\"sentence_text\"]\n",
    "print (len(sentence_text))\n",
    "\n",
    "#preprocess sentence text\n",
    "clean_sentence_list = []\n",
    "for sentence in sentence_text:\n",
    "    clean_sentence = \"\"\n",
    "    words = sentence.split(\" \")\n",
    "    for word in words:\n",
    "        word = re.sub(r'\\W+', ' ', word)\n",
    "        word = word.lstrip()\n",
    "        word = word.rstrip()\n",
    "        if not word in stop_words: \n",
    "            if not re.match(\"[^A-Za-z0-9]+\", word):\n",
    "                word = re.sub(r'[^\\x00-\\x7F]+',' ', word)\n",
    "                clean_sentence = clean_sentence + \" \" + word\n",
    "    clean_sentence_list.append(clean_sentence)\n",
    "\n",
    "data_filter_df[\"clean_sentence_text\"] = clean_sentence_list\n",
    "data_filter_df.head(10)\n",
    "\n",
    "# remove whitespace and split by ','\n",
    "data_filter_df['CONSORT_Item'] = data_filter_df['CONSORT_Item'].str.replace(' ', '').str.split(',')\n",
    "\n",
    "# construct expanded dataframe\n",
    "res = pd.DataFrame({'CONSORT_Item': list(chain.from_iterable(data_filter_df['CONSORT_Item'])),\n",
    "                    'PMCID': np.repeat(data_filter_df['PMCID'], data_filter_df['CONSORT_Item'].map(len)),\n",
    "                    'sentence_id': np.repeat(data_filter_df['sentence_id'], data_filter_df['CONSORT_Item'].map(len)),\n",
    "                    'clean_sentence_text': np.repeat(data_filter_df['clean_sentence_text'], data_filter_df['CONSORT_Item'].map(len))})\n",
    "\n",
    "sentence_text = res[\"clean_sentence_text\"]\n",
    "print (len(sentence_text))\n",
    "sentence_text.to_csv(\"/Users/phuong/Documents/skr-consort-master/datasets/sentence_text.txt\",index=False)\n",
    "res.to_csv(\"/Users/phuong/Documents/skr-consort-master/datasets/clean_data_file.csv\",index=False)\n"
   ]
  },
  {
   "cell_type": "code",
   "execution_count": 57,
   "metadata": {},
   "outputs": [
    {
     "data": {
      "text/plain": [
       "<matplotlib.axes._subplots.AxesSubplot at 0x1a1ee5d9b0>"
      ]
     },
     "execution_count": 57,
     "metadata": {},
     "output_type": "execute_result"
    },
    {
     "data": {
      "image/png": "[encoded data removed]",
      "text/plain": [
       "<Figure size 432x288 with 1 Axes>"
      ]
     },
     "metadata": {
      "needs_background": "light"
     },
     "output_type": "display_data"
    }
   ],
   "source": [
    "#ANALYSIS OF LABELS\n",
    "\n",
    "import sys\n",
    "import numpy as np\n",
    "import pandas as pd\n",
    "import random\n",
    "import matplotlib.pyplot as plt\n",
    "from collections import Counter\n",
    "\n",
    "#ANALYSIS OF LABELS\n",
    "res.head(2637)\n",
    "labels = res[\"CONSORT_Item\"]\n",
    "labels = labels.tolist()\n",
    "\n",
    "value_counts = Counter(labels)\n",
    "df = pd.DataFrame.from_dict(value_counts, orient='index')\n",
    "df.plot(kind='bar')\n"
   ]
  },
  {
   "cell_type": "code",
   "execution_count": null,
   "metadata": {},
   "outputs": [],
   "source": []
  }
 ],
 "metadata": {
  "kernelspec": {
   "display_name": "Python 3",
   "language": "python",
   "name": "python3"
  },
  "language_info": {
   "codemirror_mode": {
    "name": "ipython",
    "version": 3
   },
   "file_extension": ".py",
   "mimetype": "text/x-python",
   "name": "python",
   "nbconvert_exporter": "python",
   "pygments_lexer": "ipython3",
   "version": "3.7.1"
  }
 },
 "nbformat": 4,
 "nbformat_minor": 2
}
